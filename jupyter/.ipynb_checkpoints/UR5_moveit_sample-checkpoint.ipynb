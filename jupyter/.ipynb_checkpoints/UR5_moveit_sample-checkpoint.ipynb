{
 "cells": [
  {
   "cell_type": "code",
   "execution_count": 1,
   "metadata": {},
   "outputs": [
    {
     "data": {
      "text/plain": [
       "<module 'moveit_commander' from '/opt/ros/melodic/lib/python2.7/dist-packages/moveit_commander/__init__.pyc'>"
      ]
     },
     "execution_count": 1,
     "metadata": {},
     "output_type": "execute_result"
    }
   ],
   "source": [
    "import sys\n",
    "import rospy\n",
    "import moveit_commander\n",
    "\n",
    "moveit_commander"
   ]
  },
  {
   "cell_type": "code",
   "execution_count": 2,
   "metadata": {},
   "outputs": [
    {
     "data": {
      "text/plain": [
       "['arm', 'effector']"
      ]
     },
     "execution_count": 2,
     "metadata": {},
     "output_type": "execute_result"
    }
   ],
   "source": [
    "\n",
    "rospy.init_node('test_ur', anonymous=True)\n",
    "moveit_commander.roscpp_initialize(sys.argv)\n",
    "\n",
    "robot = moveit_commander.RobotCommander()\n",
    "scene = moveit_commander.PlanningSceneInterface()\n",
    "\n",
    "robot.get_group_names()"
   ]
  },
  {
   "cell_type": "code",
   "execution_count": 3,
   "metadata": {},
   "outputs": [],
   "source": [
    "group_name = robot.get_group_names()\n",
    "move_group = moveit_commander.MoveGroupCommander(group_name[0])"
   ]
  },
  {
   "cell_type": "code",
   "execution_count": 4,
   "metadata": {},
   "outputs": [],
   "source": [
    "planning_frame = move_group.get_planning_frame()"
   ]
  },
  {
   "cell_type": "code",
   "execution_count": 5,
   "metadata": {},
   "outputs": [
    {
     "data": {
      "text/plain": [
       "'world'"
      ]
     },
     "execution_count": 5,
     "metadata": {},
     "output_type": "execute_result"
    }
   ],
   "source": [
    "planning_frame"
   ]
  },
  {
   "cell_type": "code",
   "execution_count": 6,
   "metadata": {},
   "outputs": [],
   "source": [
    "eef_link = move_group.get_end_effector_link()"
   ]
  },
  {
   "cell_type": "code",
   "execution_count": 7,
   "metadata": {},
   "outputs": [
    {
     "data": {
      "text/plain": [
       "'ee_link'"
      ]
     },
     "execution_count": 7,
     "metadata": {},
     "output_type": "execute_result"
    }
   ],
   "source": [
    "eef_link"
   ]
  },
  {
   "cell_type": "code",
   "execution_count": 14,
   "metadata": {},
   "outputs": [
    {
     "data": {
      "text/plain": [
       "joint_state: \n",
       "  header: \n",
       "    seq: 0\n",
       "    stamp: \n",
       "      secs: 0\n",
       "      nsecs:         0\n",
       "    frame_id: \"world\"\n",
       "  name: [shoulder_pan_joint, shoulder_lift_joint, elbow_joint, wrist_1_joint, wrist_2_joint,\n",
       "  wrist_3_joint]\n",
       "  position: [2.089552364507668, 0.2139880985043776, -1.5266808045702982, -1.8249242334372644, -2.362284175181756, 1.5812897047267302]\n",
       "  velocity: []\n",
       "  effort: []\n",
       "multi_dof_joint_state: \n",
       "  header: \n",
       "    seq: 0\n",
       "    stamp: \n",
       "      secs: 0\n",
       "      nsecs:         0\n",
       "    frame_id: \"world\"\n",
       "  joint_names: []\n",
       "  transforms: []\n",
       "  twist: []\n",
       "  wrench: []\n",
       "attached_collision_objects: []\n",
       "is_diff: False"
      ]
     },
     "execution_count": 14,
     "metadata": {},
     "output_type": "execute_result"
    }
   ],
   "source": [
    "\n",
    "robot.get_current_state()\n"
   ]
  },
  {
   "cell_type": "code",
   "execution_count": 11,
   "metadata": {},
   "outputs": [],
   "source": [
    "\n",
    "move_group.set_named_target(\"up\")\n",
    "plan = move_group.plan()"
   ]
  },
  {
   "cell_type": "code",
   "execution_count": 12,
   "metadata": {},
   "outputs": [
    {
     "data": {
      "text/plain": [
       "True"
      ]
     },
     "execution_count": 12,
     "metadata": {},
     "output_type": "execute_result"
    }
   ],
   "source": [
    "move_group.execute(plan, wait=True)"
   ]
  },
  {
   "cell_type": "code",
   "execution_count": 15,
   "metadata": {},
   "outputs": [],
   "source": [
    "\n",
    "def move_joints(move_group, goal):\n",
    "    move_group.go(goal, wait=True)\n",
    "    move_group.stop()\n",
    "    \n",
    "def get_joint_state(move_group):\n",
    "    joint_state = move_group.get_current_joint_values()\n",
    "    print \"---- rad value ----\"\n",
    "    print joint_state\n",
    "    print \"---- degree value ---- \"\n",
    "    print [joint*180/math.pi for joint in joint_state]"
   ]
  },
  {
   "cell_type": "code",
   "execution_count": 16,
   "metadata": {},
   "outputs": [
    {
     "name": "stdout",
     "output_type": "stream",
     "text": [
      "---- rad value ----\n",
      "[2.0895523645076715, 0.21398809850437672, -1.5266808045702973, -1.8249242334372644, -2.362284175181755, 1.5812897047267302]\n",
      "---- degree value ---- \n",
      "[119.72253155787136, 12.26061491033051, -87.47236676551489, -104.56045650710229, -135.34891324845736, 90.6012262683298]\n"
     ]
    }
   ],
   "source": [
    "\n",
    "import math\n",
    "\n",
    "get_joint_state(move_group)"
   ]
  },
  {
   "cell_type": "code",
   "execution_count": 17,
   "metadata": {},
   "outputs": [
    {
     "name": "stdout",
     "output_type": "stream",
     "text": [
      "---- rad value ----\n",
      "[1.5707881338264382, -1.745258777597563, 1.5707078929030658, -1.7453507885135053, -1.5708957095557077, 6.476417504952536e-05]\n",
      "---- degree value ---- \n",
      "[89.99953057748564, -99.99596211450155, 89.99493311123219, -100.00123395165417, -90.00569421275083, 0.0037107138939842725]\n"
     ]
    }
   ],
   "source": [
    "goal = [ n * math.pi / 180 for n in [90,-100,90,-100,-90,0]]\n",
    "\n",
    "move_joints(move_group, goal)\n",
    "get_joint_state(move_group)"
   ]
  },
  {
   "cell_type": "code",
   "execution_count": 38,
   "metadata": {},
   "outputs": [],
   "source": [
    "# cartesin value retrieval\n",
    "\n",
    "def get_goal_pose(move_group):\n",
    "    joint_state = move_group.get_current_pose()\n",
    "    print joint_state"
   ]
  },
  {
   "cell_type": "code",
   "execution_count": 39,
   "metadata": {},
   "outputs": [
    {
     "name": "stdout",
     "output_type": "stream",
     "text": [
      "header: \n",
      "  seq: 0\n",
      "  stamp: \n",
      "    secs: 793\n",
      "    nsecs: 279000000\n",
      "  frame_id: \"world\"\n",
      "pose: \n",
      "  position: \n",
      "    x: -0.300171494538\n",
      "    y: 0.417926441321\n",
      "    z: 1.47216721421\n",
      "  orientation: \n",
      "    x: 0.381186739236\n",
      "    y: 0.617375553487\n",
      "    z: 0.602655955163\n",
      "    w: 0.332189547538\n"
     ]
    }
   ],
   "source": [
    "\n",
    "get_goal_pose(move_group)"
   ]
  },
  {
   "cell_type": "code",
   "execution_count": 36,
   "metadata": {},
   "outputs": [],
   "source": [
    "\n",
    "import geometry_msgs.msg\n",
    "\n",
    "pose_goal = geometry_msgs.msg.Pose()\n",
    "\n",
    "pose_goal.position.x = -0.300122\n",
    "pose_goal.position.y = 0.4179\n",
    "pose_goal.position.z = 1.47216\n",
    "\n",
    "pose_goal.orientation.x = -0.3535\n",
    "pose_goal.orientation.y = 0.3535\n",
    "pose_goal.orientation.z = 0.6123\n",
    "pose_goal.orientation.w = 0.6124\n",
    "move_group.set_pose_target(pose_goal)"
   ]
  },
  {
   "cell_type": "code",
   "execution_count": 37,
   "metadata": {},
   "outputs": [],
   "source": [
    "plan = move_group.go(wait=True)\n",
    "move_group.stop()\n",
    "move_group.clear_pose_targets()"
   ]
  },
  {
   "cell_type": "code",
   "execution_count": 19,
   "metadata": {},
   "outputs": [
    {
     "data": {
      "text/plain": [
       "[-0.008101290206148783, 59.994323938241884, 89.98596654854087]"
      ]
     },
     "execution_count": 19,
     "metadata": {},
     "output_type": "execute_result"
    }
   ],
   "source": [
    "\n",
    "import tf\n",
    "\n",
    "tmp = tf.transformations.euler_from_quaternion([\n",
    "    pose_goal.orientation.x,\n",
    "    pose_goal.orientation.y,\n",
    "    pose_goal.orientation.z,\n",
    "    pose_goal.orientation.w])\n",
    "\n",
    "[each*180/math.pi for each in tmp]"
   ]
  },
  {
   "cell_type": "code",
   "execution_count": 20,
   "metadata": {},
   "outputs": [
    {
     "data": {
      "text/plain": [
       "array([-0.1830127,  0.5      ,  0.5      ,  0.6830127])"
      ]
     },
     "execution_count": 20,
     "metadata": {},
     "output_type": "execute_result"
    }
   ],
   "source": [
    "tf.transformations.quaternion_from_euler(30*math.pi/180,\n",
    "                                         60*math.pi/180,\n",
    "                                         90*math.pi/180)"
   ]
  },
  {
   "cell_type": "code",
   "execution_count": 21,
   "metadata": {},
   "outputs": [],
   "source": [
    "[p,q,r] = [each*math.pi/180 for each in [0., 60, 90.]]\n",
    "\n",
    "x,y,z,w =tf.transformations.quaternion_from_euler(p,q,r)"
   ]
  },
  {
   "cell_type": "code",
   "execution_count": 22,
   "metadata": {},
   "outputs": [],
   "source": [
    "move_group.set_pose_target(pose_goal)\n",
    "\n",
    "plan = move_group.go(wait=True)\n",
    "move_group.stop()\n",
    "move_group.clear_pose_targets()"
   ]
  },
  {
   "cell_type": "code",
   "execution_count": null,
   "metadata": {},
   "outputs": [],
   "source": []
  },
  {
   "cell_type": "code",
   "execution_count": null,
   "metadata": {},
   "outputs": [],
   "source": []
  }
 ],
 "metadata": {
  "kernelspec": {
   "display_name": "Python 2",
   "language": "python",
   "name": "python2"
  },
  "language_info": {
   "codemirror_mode": {
    "name": "ipython",
    "version": 2
   },
   "file_extension": ".py",
   "mimetype": "text/x-python",
   "name": "python",
   "nbconvert_exporter": "python",
   "pygments_lexer": "ipython2",
   "version": "2.7.17"
  }
 },
 "nbformat": 4,
 "nbformat_minor": 4
}
