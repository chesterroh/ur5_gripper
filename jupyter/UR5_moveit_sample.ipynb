{
 "cells": [
  {
   "cell_type": "code",
   "execution_count": 1,
   "metadata": {},
   "outputs": [
    {
     "data": {
      "text/plain": [
       "<module 'moveit_commander' from '/opt/ros/melodic/lib/python2.7/dist-packages/moveit_commander/__init__.pyc'>"
      ]
     },
     "execution_count": 1,
     "metadata": {},
     "output_type": "execute_result"
    }
   ],
   "source": [
    "import sys\n",
    "import rospy\n",
    "import moveit_commander\n",
    "\n",
    "moveit_commander"
   ]
  },
  {
   "cell_type": "code",
   "execution_count": 2,
   "metadata": {},
   "outputs": [
    {
     "data": {
      "text/plain": [
       "['arm', 'effector']"
      ]
     },
     "execution_count": 2,
     "metadata": {},
     "output_type": "execute_result"
    }
   ],
   "source": [
    "\n",
    "rospy.init_node('test_ur', anonymous=True)\n",
    "moveit_commander.roscpp_initialize(sys.argv)\n",
    "\n",
    "robot = moveit_commander.RobotCommander()\n",
    "scene = moveit_commander.PlanningSceneInterface()\n",
    "\n",
    "robot.get_group_names()"
   ]
  },
  {
   "cell_type": "code",
   "execution_count": 3,
   "metadata": {},
   "outputs": [],
   "source": [
    "group_name = robot.get_group_names()\n",
    "move_group = moveit_commander.MoveGroupCommander(group_name[0])"
   ]
  },
  {
   "cell_type": "code",
   "execution_count": 4,
   "metadata": {},
   "outputs": [],
   "source": [
    "planning_frame = move_group.get_planning_frame()"
   ]
  },
  {
   "cell_type": "code",
   "execution_count": 5,
   "metadata": {},
   "outputs": [
    {
     "data": {
      "text/plain": [
       "'world'"
      ]
     },
     "execution_count": 5,
     "metadata": {},
     "output_type": "execute_result"
    }
   ],
   "source": [
    "planning_frame"
   ]
  },
  {
   "cell_type": "code",
   "execution_count": 6,
   "metadata": {},
   "outputs": [],
   "source": [
    "eef_link = move_group.get_end_effector_link()"
   ]
  },
  {
   "cell_type": "code",
   "execution_count": 7,
   "metadata": {},
   "outputs": [
    {
     "data": {
      "text/plain": [
       "'ee_link'"
      ]
     },
     "execution_count": 7,
     "metadata": {},
     "output_type": "execute_result"
    }
   ],
   "source": [
    "eef_link"
   ]
  },
  {
   "cell_type": "code",
   "execution_count": 8,
   "metadata": {},
   "outputs": [
    {
     "data": {
      "text/plain": [
       "joint_state: \n",
       "  header: \n",
       "    seq: 0\n",
       "    stamp: \n",
       "      secs: 0\n",
       "      nsecs:         0\n",
       "    frame_id: \"world\"\n",
       "  name: [shoulder_pan_joint, shoulder_lift_joint, elbow_joint, wrist_1_joint, wrist_2_joint,\n",
       "  wrist_3_joint, simple_gripper_left_driver_joint, simple_gripper_left_follower_joint,\n",
       "  simple_gripper_left_spring_link_joint, simple_gripper_right_driver_joint, simple_gripper_right_follower_joint,\n",
       "  simple_gripper_right_spring_link_joint]\n",
       "  position: [0.0005946127372586929, 0.016078054855182877, -0.0001513199664842091, 0.0008468241661532261, 4.924344995060892e-05, 0.0005710313680760137, 3.578564413686536e-07, -3.578564413686536e-07, 3.578564413686536e-07, 3.578564413686536e-07, -3.578564413686536e-07, 3.578564413686536e-07]\n",
       "  velocity: []\n",
       "  effort: []\n",
       "multi_dof_joint_state: \n",
       "  header: \n",
       "    seq: 0\n",
       "    stamp: \n",
       "      secs: 0\n",
       "      nsecs:         0\n",
       "    frame_id: \"world\"\n",
       "  joint_names: []\n",
       "  transforms: []\n",
       "  twist: []\n",
       "  wrench: []\n",
       "attached_collision_objects: []\n",
       "is_diff: False"
      ]
     },
     "execution_count": 8,
     "metadata": {},
     "output_type": "execute_result"
    }
   ],
   "source": [
    "\n",
    "robot.get_current_state()\n"
   ]
  },
  {
   "cell_type": "code",
   "execution_count": 9,
   "metadata": {},
   "outputs": [],
   "source": [
    "\n",
    "move_group.set_named_target(\"up\")\n",
    "plan = move_group.plan()"
   ]
  },
  {
   "cell_type": "code",
   "execution_count": 10,
   "metadata": {},
   "outputs": [
    {
     "data": {
      "text/plain": [
       "True"
      ]
     },
     "execution_count": 10,
     "metadata": {},
     "output_type": "execute_result"
    }
   ],
   "source": [
    "move_group.execute(plan, wait=True)"
   ]
  },
  {
   "cell_type": "code",
   "execution_count": 11,
   "metadata": {},
   "outputs": [],
   "source": [
    "\n",
    "def move_joints(move_group, goal):\n",
    "    move_group.go(goal, wait=True)\n",
    "    move_group.stop()\n",
    "    \n",
    "def get_joint_state(move_group):\n",
    "    joint_state = move_group.get_current_joint_values()\n",
    "    print \"---- rad value ----\"\n",
    "    print joint_state\n",
    "    print \"---- degree value ---- \"\n",
    "    print [joint*180/math.pi for joint in joint_state]"
   ]
  },
  {
   "cell_type": "code",
   "execution_count": 12,
   "metadata": {},
   "outputs": [
    {
     "name": "stdout",
     "output_type": "stream",
     "text": [
      "---- rad value ----\n",
      "[-0.0004658183706878205, -1.2666037409402504, 1.824032623286529, -0.7600710236102248, 3.331518585536486e-05, 4.5046842687135324e-05]\n",
      "---- degree value ---- \n",
      "[-0.026689426660072613, -72.57104867135783, 104.50937100849411, -43.54886178305423, 0.0019088195432063438, 0.0025809939663626103]\n"
     ]
    }
   ],
   "source": [
    "\n",
    "import math\n",
    "\n",
    "get_joint_state(move_group)"
   ]
  },
  {
   "cell_type": "code",
   "execution_count": 13,
   "metadata": {},
   "outputs": [
    {
     "name": "stdout",
     "output_type": "stream",
     "text": [
      "---- rad value ----\n",
      "[1.570698467592349, -1.7452479288971023, 1.5707931817767218, -1.7452520687941906, -1.5707495860131608, 7.09595921382089e-05]\n",
      "---- degree value ---- \n",
      "[89.9943930807075, -99.99534052975196, 89.9998198037321, -99.99557772838273, -89.99732195047541, 0.004065685145489067]\n"
     ]
    }
   ],
   "source": [
    "goal = [ n * math.pi / 180 for n in [90,-100,90,-100,-90,0]]\n",
    "\n",
    "move_joints(move_group, goal)\n",
    "get_joint_state(move_group)"
   ]
  },
  {
   "cell_type": "code",
   "execution_count": 14,
   "metadata": {},
   "outputs": [],
   "source": [
    "# cartesin value retrieval\n",
    "\n",
    "def get_goal_pose(move_group):\n",
    "    joint_state = move_group.get_current_pose()\n",
    "    print joint_state"
   ]
  },
  {
   "cell_type": "code",
   "execution_count": 15,
   "metadata": {},
   "outputs": [
    {
     "name": "stdout",
     "output_type": "stream",
     "text": [
      "header: \n",
      "  seq: 0\n",
      "  stamp: \n",
      "    secs: 36\n",
      "    nsecs: 504000000\n",
      "  frame_id: \"world\"\n",
      "pose: \n",
      "  position: \n",
      "    x: -0.109111804667\n",
      "    y: 0.429623583711\n",
      "    z: 0.530808906559\n",
      "  orientation: \n",
      "    x: -0.405574902962\n",
      "    y: 0.405674655857\n",
      "    z: 0.579167261\n",
      "    w: 0.579225651598\n"
     ]
    }
   ],
   "source": [
    "\n",
    "get_goal_pose(move_group)"
   ]
  },
  {
   "cell_type": "code",
   "execution_count": 16,
   "metadata": {},
   "outputs": [],
   "source": [
    "\n",
    "import geometry_msgs.msg\n",
    "\n",
    "pose_goal = geometry_msgs.msg.Pose()\n",
    "\n",
    "pose_goal.position.x = -0.109\n",
    "pose_goal.position.y = 0.417\n",
    "pose_goal.position.z = 0.618\n",
    "\n",
    "pose_goal.orientation.x = -0.3535\n",
    "pose_goal.orientation.y = 0.3535\n",
    "pose_goal.orientation.z = 0.6123\n",
    "pose_goal.orientation.w = 0.6124\n",
    "move_group.set_pose_target(pose_goal)"
   ]
  },
  {
   "cell_type": "code",
   "execution_count": 17,
   "metadata": {},
   "outputs": [],
   "source": [
    "plan = move_group.go(wait=True)\n",
    "move_group.stop()\n",
    "move_group.clear_pose_targets()"
   ]
  },
  {
   "cell_type": "code",
   "execution_count": 18,
   "metadata": {},
   "outputs": [
    {
     "data": {
      "text/plain": [
       "[-0.008101290206148783, 59.994323938241884, 89.98596654854087]"
      ]
     },
     "execution_count": 18,
     "metadata": {},
     "output_type": "execute_result"
    }
   ],
   "source": [
    "\n",
    "import tf\n",
    "\n",
    "tmp = tf.transformations.euler_from_quaternion([\n",
    "    pose_goal.orientation.x,\n",
    "    pose_goal.orientation.y,\n",
    "    pose_goal.orientation.z,\n",
    "    pose_goal.orientation.w])\n",
    "\n",
    "[each*180/math.pi for each in tmp]"
   ]
  },
  {
   "cell_type": "code",
   "execution_count": 19,
   "metadata": {},
   "outputs": [
    {
     "data": {
      "text/plain": [
       "array([-0.1830127,  0.5      ,  0.5      ,  0.6830127])"
      ]
     },
     "execution_count": 19,
     "metadata": {},
     "output_type": "execute_result"
    }
   ],
   "source": [
    "tf.transformations.quaternion_from_euler(30*math.pi/180,\n",
    "                                         60*math.pi/180,\n",
    "                                         90*math.pi/180)"
   ]
  },
  {
   "cell_type": "code",
   "execution_count": 22,
   "metadata": {},
   "outputs": [],
   "source": [
    "[p,q,r] = [each*math.pi/180 for each in [0., 60, 90.]]\n",
    "\n",
    "x,y,z,w =tf.transformations.quaternion_from_euler(p,q,r)"
   ]
  },
  {
   "cell_type": "code",
   "execution_count": 23,
   "metadata": {},
   "outputs": [],
   "source": [
    "move_group.set_pose_target(pose_goal)\n",
    "\n",
    "plan = move_group.go(wait=True)\n",
    "move_group.stop()\n",
    "move_group.clear_pose_targets()"
   ]
  },
  {
   "cell_type": "code",
   "execution_count": null,
   "metadata": {},
   "outputs": [],
   "source": []
  }
 ],
 "metadata": {
  "kernelspec": {
   "display_name": "Python 2",
   "language": "python",
   "name": "python2"
  },
  "language_info": {
   "codemirror_mode": {
    "name": "ipython",
    "version": 2
   },
   "file_extension": ".py",
   "mimetype": "text/x-python",
   "name": "python",
   "nbconvert_exporter": "python",
   "pygments_lexer": "ipython2",
   "version": "2.7.17"
  }
 },
 "nbformat": 4,
 "nbformat_minor": 4
}
