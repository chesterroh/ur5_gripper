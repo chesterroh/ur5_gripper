{
 "cells": [
  {
   "cell_type": "code",
   "execution_count": 1,
   "metadata": {},
   "outputs": [],
   "source": [
    "import rospy\n",
    "import actionlib\n",
    "from move_base_msgs.msg import MoveBaseAction, MoveBaseGoal\n",
    "from math import radians, degrees\n",
    "from actionlib_msgs.msg import *\n",
    "from geometry_msgs.msg import Point"
   ]
  },
  {
   "cell_type": "code",
   "execution_count": 2,
   "metadata": {},
   "outputs": [],
   "source": [
    "rospy.init_node('map_navigation', anonymous=False)\n",
    "ac = actionlib.SimpleActionClient(\"move_base\", MoveBaseAction)"
   ]
  },
  {
   "cell_type": "code",
   "execution_count": 3,
   "metadata": {},
   "outputs": [],
   "source": [
    "goal = MoveBaseGoal()\n",
    "goal.target_pose.header.frame_id = \"map\"\n",
    "goal.target_pose.header.stamp = rospy.Time.now()\n",
    "\n"
   ]
  },
  {
   "cell_type": "code",
   "execution_count": 4,
   "metadata": {},
   "outputs": [],
   "source": [
    "goal.target_pose.pose.position = Point(-0.48, -1.7, 0)\n",
    "goal.target_pose.pose.orientation.x = 0.0\n",
    "goal.target_pose.pose.orientation.y = 0.0\n",
    "goal.target_pose.pose.orientation.z = 0.0\n",
    "goal.target_pose.pose.orientation.w = 1.0\n",
    "\n",
    "\n"
   ]
  },
  {
   "cell_type": "code",
   "execution_count": 5,
   "metadata": {},
   "outputs": [],
   "source": [
    "ac.send_goal(goal)"
   ]
  },
  {
   "cell_type": "code",
   "execution_count": 7,
   "metadata": {},
   "outputs": [
    {
     "data": {
      "text/plain": [
       "(0.0, 0.0, 0.70710678118654746, 0.70710678118654757)"
      ]
     },
     "execution_count": 7,
     "metadata": {},
     "output_type": "execute_result"
    }
   ],
   "source": [
    "import tf\n",
    "import math\n",
    "\n",
    "[p,q,r] = [ each*math.pi/180 for each in [0,0,90]]\n",
    "x,y,z,w = tf.transformations.quaternion_from_euler(p,q,r)\n",
    "x,y,z,w"
   ]
  },
  {
   "cell_type": "code",
   "execution_count": 8,
   "metadata": {},
   "outputs": [],
   "source": [
    "goal.target_pose.pose.position = Point(0.47, 1.8, 0)\n",
    "goal.target_pose.pose.orientation.x = x\n",
    "goal.target_pose.pose.orientation.y = y\n",
    "goal.target_pose.pose.orientation.z = z\n",
    "goal.target_pose.pose.orientation.w = w\n",
    "\n",
    "ac.send_goal(goal)"
   ]
  },
  {
   "cell_type": "code",
   "execution_count": null,
   "metadata": {},
   "outputs": [],
   "source": []
  }
 ],
 "metadata": {
  "kernelspec": {
   "display_name": "Python 2",
   "language": "python",
   "name": "python2"
  },
  "language_info": {
   "codemirror_mode": {
    "name": "ipython",
    "version": 2
   },
   "file_extension": ".py",
   "mimetype": "text/x-python",
   "name": "python",
   "nbconvert_exporter": "python",
   "pygments_lexer": "ipython2",
   "version": "2.7.17"
  }
 },
 "nbformat": 4,
 "nbformat_minor": 2
}
