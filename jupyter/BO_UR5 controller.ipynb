{
 "cells": [
  {
   "cell_type": "code",
   "execution_count": 1,
   "metadata": {},
   "outputs": [],
   "source": [
    "import sys\n",
    "import rospy\n",
    "import moveit_commander\n",
    "import copy\n",
    "import moveit_msgs.msg\n",
    "import geometry_msgs.msg\n",
    "from math import pi\n",
    "from tf.transformations import *\n",
    "from moveit_msgs.msg import RobotState, Constraints, JointConstraint, OrientationConstraint"
   ]
  },
  {
   "cell_type": "code",
   "execution_count": 2,
   "metadata": {},
   "outputs": [
    {
     "data": {
      "text/plain": [
       "['arm', 'gripper']"
      ]
     },
     "execution_count": 2,
     "metadata": {},
     "output_type": "execute_result"
    }
   ],
   "source": [
    "rospy.init_node('bo_ur5', anonymous=True)\n",
    "moveit_commander.roscpp_initialize(sys.argv)\n",
    "\n",
    "robot = moveit_commander.RobotCommander()\n",
    "scene = moveit_commander.PlanningSceneInterface()\n",
    "\n",
    "robot.get_group_names()"
   ]
  },
  {
   "cell_type": "code",
   "execution_count": 3,
   "metadata": {},
   "outputs": [],
   "source": [
    "group_name = robot.get_group_names()\n",
    "move_group = moveit_commander.MoveGroupCommander(group_name[0])\n",
    "planning_frame = move_group.get_planning_frame()"
   ]
  },
  {
   "cell_type": "code",
   "execution_count": 4,
   "metadata": {},
   "outputs": [],
   "source": [
    "eef_link = move_group.get_end_effector_link()"
   ]
  },
  {
   "cell_type": "code",
   "execution_count": 5,
   "metadata": {},
   "outputs": [
    {
     "data": {
      "text/plain": [
       "joint_state: \n",
       "  header: \n",
       "    seq: 0\n",
       "    stamp: \n",
       "      secs: 0\n",
       "      nsecs:         0\n",
       "    frame_id: \"world\"\n",
       "  name: [shoulder_pan_joint, shoulder_lift_joint, elbow_joint, wrist_1_joint, wrist_2_joint,\n",
       "  wrist_3_joint, robotiq_85_left_knuckle_joint]\n",
       "  position: [-0.0028408114901896653, 0.015576054779815607, 0.00010489376895428393, 0.005006323326917084, -0.000603027047008986, -0.018501657996647047, 0.0006713749782614187]\n",
       "  velocity: []\n",
       "  effort: []\n",
       "multi_dof_joint_state: \n",
       "  header: \n",
       "    seq: 0\n",
       "    stamp: \n",
       "      secs: 0\n",
       "      nsecs:         0\n",
       "    frame_id: \"world\"\n",
       "  joint_names: []\n",
       "  transforms: []\n",
       "  twist: []\n",
       "  wrench: []\n",
       "attached_collision_objects: []\n",
       "is_diff: False"
      ]
     },
     "execution_count": 5,
     "metadata": {},
     "output_type": "execute_result"
    }
   ],
   "source": [
    "robot_state = robot.get_current_state()\n",
    "robot_state"
   ]
  },
  {
   "cell_type": "code",
   "execution_count": 6,
   "metadata": {},
   "outputs": [],
   "source": [
    "def get_goal_pose(move_group):\n",
    "    joint_state = move_group.get_current_pose()\n",
    "    print joint_state"
   ]
  },
  {
   "cell_type": "code",
   "execution_count": 7,
   "metadata": {},
   "outputs": [
    {
     "name": "stdout",
     "output_type": "stream",
     "text": [
      "header: \n",
      "  seq: 0\n",
      "  stamp: \n",
      "    secs: 265\n",
      "    nsecs: 118000000\n",
      "  frame_id: \"world\"\n",
      "pose: \n",
      "  position: \n",
      "    x: 0.815700327705\n",
      "    y: 0.196633529362\n",
      "    z: 0.981761286106\n",
      "  orientation: \n",
      "    x: -0.707896665185\n",
      "    y: -0.706315171515\n",
      "    z: 0.000766513357779\n",
      "    w: 0.000776121724748\n"
     ]
    }
   ],
   "source": [
    "get_goal_pose(move_group)"
   ]
  },
  {
   "cell_type": "code",
   "execution_count": 72,
   "metadata": {},
   "outputs": [],
   "source": [
    "import geometry_msgs.msg\n",
    "from geometry_msgs.msg import Quaternion, Point\n",
    "\n",
    "orientation_0 = Quaternion(-0.707732860392,\n",
    "                          -0.706466425662,\n",
    "                           0.00311631615142,\n",
    "                           0.00311067637957)\n",
    "\n",
    "def bo_move_position( position, orientation=orientation_0 ):\n",
    "    pose_goal = geometry_msgs.msg.Pose()\n",
    "    pose_goal.orientation = orientation\n",
    "    pose_goal.position = position\n",
    "    move_group.set_pose_target(pose_goal)\n",
    "    plan = move_group.go(wait=True)\n",
    "    move_group.stop()\n",
    "    move_group.clear_pose_targets()\n"
   ]
  },
  {
   "cell_type": "code",
   "execution_count": null,
   "metadata": {},
   "outputs": [],
   "source": [
    "orientation_0 = Quaternion(-0.707732860392,\n",
    "                          -0.706466425662,\n",
    "                           0.00311631615142,\n",
    "                           0.00311067637957)\n",
    "\n",
    "Y_ENTRY_POINT = 0.45\n",
    "Y_INSERT_LENGTH = 0.20\n",
    "\n",
    "\n",
    "rack_0U = [ Point(-0.44, Y_ENTRY_POINT, 0.998+0.376),\n",
    "           Point(-0.22, Y_ENTRY_POINT, 0.998+0.376),\n",
    "           Point(0.0, Y_ENTRY_POINT, 0.998+0.376),\n",
    "           Point(0.22, Y_ENTRY_POINT, 0.998+0.376),\n",
    "           Point(0.44, Y_ENTRY_POINT, 0.998+0.376)\n",
    "          ]\n",
    "\n",
    "rack_0L = [ Point(-0.44, Y_ENTRY_POINT, 0.998-0.376),\n",
    "           Point(-0.22, Y_ENTRY_POINT, 0.998-0.376),\n",
    "           Point(0.0, Y_ENTRY_POINT, 0.998-0.376),\n",
    "           Point(0.22, Y_ENTRY_POINT, 0.998-0.376),\n",
    "           Point(0.44, Y_ENTRY_POINT, 0.998-0.376)\n",
    "          ]\n",
    "\n",
    "# go to the initial position \n",
    "bo_move_position(rack_0U[0])\n",
    "\n",
    "for point in rack_0U:\n",
    "    bo_move_position(point)\n",
    "    bo_move_position(Point(point.x, point.y+Y_INSERT_LENGTH, point.z))\n",
    "    bo_move_position(point)\n",
    "\n",
    "for point in reversed(rack_0L):\n",
    "    bo_move_position(point)\n",
    "    bo_move_position(Point(point.x, point.y+Y_INSERT_LENGTH, point.z))\n",
    "    bo_move_position(point)\n",
    "\n",
    "# go to the initial position\n",
    "bo_move_position(rack_0U[0])\n"
   ]
  },
  {
   "cell_type": "markdown",
   "metadata": {},
   "source": [
    "동작이 가능한떄의 joint state 를 찾아서 해당 joint state 를 initialize 한 이후에 way point 들을 움직일 수 있도록 만들면 된다. "
   ]
  },
  {
   "cell_type": "code",
   "execution_count": 9,
   "metadata": {},
   "outputs": [],
   "source": [
    "constraints = Constraints()\n",
    "\n",
    "constraints.name = \"constraints1\"\n",
    "\n",
    "oc1 = OrientationConstraint()\n",
    "\n",
    "# input orientation constraints\n",
    "constraints.orientation_constraints.append(oc1)\n",
    "move_group.set_path_constraints(constraints)\n"
   ]
  },
  {
   "cell_type": "code",
   "execution_count": 10,
   "metadata": {},
   "outputs": [],
   "source": [
    "from geometry_msgs.msg import Quaternion"
   ]
  },
  {
   "cell_type": "code",
   "execution_count": 11,
   "metadata": {},
   "outputs": [],
   "source": [
    "a = Quaternion(0,0,0,1)"
   ]
  },
  {
   "cell_type": "code",
   "execution_count": 12,
   "metadata": {},
   "outputs": [
    {
     "data": {
      "text/plain": [
       "x: 0\n",
       "y: 0\n",
       "z: 0\n",
       "w: 1"
      ]
     },
     "execution_count": 12,
     "metadata": {},
     "output_type": "execute_result"
    }
   ],
   "source": [
    "a"
   ]
  },
  {
   "cell_type": "code",
   "execution_count": null,
   "metadata": {},
   "outputs": [],
   "source": []
  }
 ],
 "metadata": {
  "kernelspec": {
   "display_name": "Python 2",
   "language": "python",
   "name": "python2"
  },
  "language_info": {
   "codemirror_mode": {
    "name": "ipython",
    "version": 2
   },
   "file_extension": ".py",
   "mimetype": "text/x-python",
   "name": "python",
   "nbconvert_exporter": "python",
   "pygments_lexer": "ipython2",
   "version": "2.7.17"
  }
 },
 "nbformat": 4,
 "nbformat_minor": 4
}
