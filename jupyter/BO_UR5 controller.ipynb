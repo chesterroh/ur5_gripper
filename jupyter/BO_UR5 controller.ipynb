{
 "cells": [
  {
   "cell_type": "code",
   "execution_count": 1,
   "metadata": {},
   "outputs": [],
   "source": [
    "import sys\n",
    "import rospy\n",
    "import moveit_commander\n",
    "import copy\n",
    "import moveit_msgs.msg\n",
    "import geometry_msgs.msg\n",
    "\n",
    "from math import pi\n",
    "\n",
    "from tf.transformations import *\n",
    "from moveit_msgs.msg import RobotState, Constraints, JointConstraint, OrientationConstraint\n",
    "\n",
    "from std_msgs.msg import String\n",
    "from moveit_commander.conversions import pose_to_list"
   ]
  },
  {
   "cell_type": "code",
   "execution_count": 2,
   "metadata": {},
   "outputs": [
    {
     "data": {
      "text/plain": [
       "['arm', 'gripper']"
      ]
     },
     "execution_count": 2,
     "metadata": {},
     "output_type": "execute_result"
    }
   ],
   "source": [
    "rospy.init_node('bf_ur5', anonymous=True)\n",
    "moveit_commander.roscpp_initialize(sys.argv)\n",
    "\n",
    "robot = moveit_commander.RobotCommander()\n",
    "scene = moveit_commander.PlanningSceneInterface()\n",
    "\n",
    "robot.get_group_names()"
   ]
  },
  {
   "cell_type": "code",
   "execution_count": 3,
   "metadata": {},
   "outputs": [],
   "source": [
    "group_name = robot.get_group_names()\n",
    "move_group = moveit_commander.MoveGroupCommander(group_name[0])\n",
    "planning_frame = move_group.get_planning_frame()"
   ]
  },
  {
   "cell_type": "code",
   "execution_count": 4,
   "metadata": {},
   "outputs": [],
   "source": [
    "eef_link = move_group.get_end_effector_link()"
   ]
  },
  {
   "cell_type": "code",
   "execution_count": 5,
   "metadata": {},
   "outputs": [
    {
     "data": {
      "text/plain": [
       "joint_state: \n",
       "  header: \n",
       "    seq: 0\n",
       "    stamp: \n",
       "      secs: 0\n",
       "      nsecs:         0\n",
       "    frame_id: \"world\"\n",
       "  name: [shoulder_pan_joint, shoulder_lift_joint, elbow_joint, wrist_1_joint, wrist_2_joint,\n",
       "  wrist_3_joint, robotiq_85_left_inner_knuckle_joint, robotiq_85_left_finger_tip_joint,\n",
       "  robotiq_85_left_knuckle_joint, robotiq_85_left_finger_joint, robotiq_85_right_inner_knuckle_joint,\n",
       "  robotiq_85_right_finger_tip_joint, robotiq_85_right_knuckle_joint, robotiq_85_right_finger_joint]\n",
       "  position: [-0.0028462404650468898, 0.01584641353191696, 0.0001053063594111947, 0.005020391138707225, -0.0006049482404621997, -0.018570347900235262, -7.830130440034111e-06, 7.830130440034111e-06, -7.830130440034111e-06, 0.0, -7.830130440034111e-06, 7.830130440034111e-06, -7.830130440034111e-06, 0.0]\n",
       "  velocity: []\n",
       "  effort: []\n",
       "multi_dof_joint_state: \n",
       "  header: \n",
       "    seq: 0\n",
       "    stamp: \n",
       "      secs: 0\n",
       "      nsecs:         0\n",
       "    frame_id: \"world\"\n",
       "  joint_names: []\n",
       "  transforms: []\n",
       "  twist: []\n",
       "  wrench: []\n",
       "attached_collision_objects: []\n",
       "is_diff: False"
      ]
     },
     "execution_count": 5,
     "metadata": {},
     "output_type": "execute_result"
    }
   ],
   "source": [
    "robot_state = robot.get_current_state()\n",
    "robot_state"
   ]
  },
  {
   "cell_type": "code",
   "execution_count": 6,
   "metadata": {},
   "outputs": [
    {
     "data": {
      "text/plain": [
       "[-0.002846240465047778,\n",
       " 0.015846413531917847,\n",
       " 0.0001053063594111947,\n",
       " 0.005020391138706337,\n",
       " -0.0006049482404621997,\n",
       " -0.018570347900235262]"
      ]
     },
     "execution_count": 6,
     "metadata": {},
     "output_type": "execute_result"
    }
   ],
   "source": [
    "\n",
    "joint_goal = move_group.get_current_joint_values()\n",
    "joint_goal"
   ]
  },
  {
   "cell_type": "code",
   "execution_count": 7,
   "metadata": {},
   "outputs": [],
   "source": [
    "def get_goal_pose(move_group):\n",
    "    joint_state = move_group.get_current_pose()\n",
    "    print joint_state"
   ]
  },
  {
   "cell_type": "code",
   "execution_count": 8,
   "metadata": {},
   "outputs": [
    {
     "name": "stdout",
     "output_type": "stream",
     "text": [
      "header: \n",
      "  seq: 0\n",
      "  stamp: \n",
      "    secs: 91\n",
      "    nsecs: 252000000\n",
      "  frame_id: \"world\"\n",
      "pose: \n",
      "  position: \n",
      "    x: 0.815670784314\n",
      "    y: 0.196629187965\n",
      "    z: 0.981540781535\n",
      "  orientation: \n",
      "    x: -0.707897817191\n",
      "    y: -0.706313841751\n",
      "    z: 0.000842771433638\n",
      "    w: 0.000852703814737\n"
     ]
    }
   ],
   "source": [
    "get_goal_pose(move_group)"
   ]
  },
  {
   "cell_type": "code",
   "execution_count": 9,
   "metadata": {},
   "outputs": [],
   "source": [
    "import geometry_msgs.msg\n",
    "from geometry_msgs.msg import Quaternion, Point\n",
    "\n",
    "def bo_move_position( position, orientation ):\n",
    "    pose_goal = geometry_msgs.msg.Pose()\n",
    "    pose_goal.orientation = orientation\n",
    "    pose_goal.position = position\n",
    "    move_group.set_pose_target(pose_goal)\n",
    "    plan = move_group.go(wait=True)\n",
    "    move_group.stop()\n",
    "    move_group.clear_pose_targets()\n"
   ]
  },
  {
   "cell_type": "code",
   "execution_count": 20,
   "metadata": {},
   "outputs": [],
   "source": [
    "orientation_0 = Quaternion(-0.707732860392,\n",
    "                          -0.706466425662,\n",
    "                           0.00311631615142,\n",
    "                           0.00311067637957)\n",
    "\n",
    "quat = quaternion_from_euler(0, 0, pi/2.0)\n",
    "ori_0 = Quaternion( quat[0], quat[1], quat[2], quat[3])\n",
    "\n",
    "quat = quaternion_from_euler(0, 0, -pi/2.0)\n",
    "ori_1 = Quaternion( quat[0], quat[1], quat[2], quat[3])\n",
    "\n",
    "Y_ENTRY_POINT = 0.44\n",
    "Y_INSERT_LENGTH = 0.15\n"
   ]
  },
  {
   "cell_type": "code",
   "execution_count": 21,
   "metadata": {},
   "outputs": [],
   "source": [
    "# rack coordinate\n",
    "\n",
    "\n",
    "rack_0U = [ Point(-0.44, Y_ENTRY_POINT, 0.998+0.376),\n",
    "           Point(-0.22, Y_ENTRY_POINT, 0.998+0.376),\n",
    "           Point(0.0, Y_ENTRY_POINT, 0.998+0.376),\n",
    "           Point(0.22, Y_ENTRY_POINT, 0.998+0.376),\n",
    "           Point(0.44, Y_ENTRY_POINT, 0.998+0.376)\n",
    "          ]\n",
    "\n",
    "rack_0L = [ Point(-0.44, Y_ENTRY_POINT, 0.998-0.376),\n",
    "           Point(-0.22, Y_ENTRY_POINT, 0.998-0.376),\n",
    "           Point(0.0, Y_ENTRY_POINT, 0.998-0.376),\n",
    "           Point(0.22, Y_ENTRY_POINT, 0.998-0.376),\n",
    "           Point(0.44, Y_ENTRY_POINT, 0.998-0.376)\n",
    "          ]\n",
    "\n",
    "rack_1U = [ Point(-0.44, -Y_ENTRY_POINT, 0.998+0.376),\n",
    "           Point(-0.22, -Y_ENTRY_POINT, 0.998+0.376),\n",
    "           Point(0.0, -Y_ENTRY_POINT, 0.998+0.376),\n",
    "           Point(0.22, -Y_ENTRY_POINT, 0.998+0.376),\n",
    "           Point(0.44, -Y_ENTRY_POINT, 0.998+0.376)\n",
    "          ]\n",
    "\n",
    "rack_1L = [ Point(-0.44, -Y_ENTRY_POINT, 0.998-0.376),\n",
    "           Point(-0.22, -Y_ENTRY_POINT, 0.998-0.376),\n",
    "           Point(0.0, -Y_ENTRY_POINT, 0.998-0.376),\n",
    "           Point(0.22, -Y_ENTRY_POINT, 0.998-0.376),\n",
    "           Point(0.44, -Y_ENTRY_POINT, 0.998-0.376)\n",
    "          ]\n"
   ]
  },
  {
   "cell_type": "code",
   "execution_count": 24,
   "metadata": {},
   "outputs": [],
   "source": [
    "# go to the initial position \n",
    "\n",
    "for point in rack_0U:\n",
    "    bo_move_position(point, ori_0)\n",
    "    bo_move_position(Point(point.x, point.y+Y_INSERT_LENGTH, point.z), ori_0)\n",
    "    bo_move_position(point, ori_0 )\n",
    "\n",
    "for point in reversed(rack_0L):\n",
    "    bo_move_position(point, ori_0)\n",
    "    bo_move_position(Point(point.x, point.y+Y_INSERT_LENGTH, point.z), ori_0)\n",
    "    bo_move_position(point, ori_0)\n",
    "\n",
    "# go to the initial position\n",
    "bo_move_position(rack_0U[0], ori_0)\n"
   ]
  },
  {
   "cell_type": "code",
   "execution_count": null,
   "metadata": {},
   "outputs": [],
   "source": [
    "# when we go to the opposite side of the rack, orientation should be reconsidered.\n",
    "    \n",
    "for point in rack_1U:\n",
    "    bo_move_position(point, ori_1)\n",
    "    bo_move_position(Point(point.x, point.y-Y_INSERT_LENGTH, point.z), ori_1)\n",
    "    bo_move_position(point, ori_1)\n",
    "\n",
    "for point in reversed(rack_1L):\n",
    "    bo_move_position(point, ori_1)\n",
    "    bo_move_position(Point(point.x, point.y-Y_INSERT_LENGTH, point.z), ori_1)\n",
    "    bo_move_position(point, ori_1)\n",
    "\n",
    "# go to the initial position\n",
    "bo_move_position(rack_0U[0])"
   ]
  },
  {
   "cell_type": "markdown",
   "metadata": {},
   "source": [
    "Constraint setup is very tricky in moveit. Instrcutions are not well-documented."
   ]
  },
  {
   "cell_type": "code",
   "execution_count": null,
   "metadata": {},
   "outputs": [],
   "source": [
    "# end effector tilt tolerance setup\n",
    "\n",
    "constraints = Constraints()\n",
    "\n",
    "constraints.name = \"tilt_constraint\"\n",
    "\n",
    "tilt_constraint = OrientationConstraint()\n",
    "\n",
    "tilt_constraint.header.frame_id = \"base_link\"\n",
    "\n",
    "tilt_constraint.link_name = \"gripper\"\n",
    "\n",
    "tilt_constraint.absolute_x_axis_tolerance = 0.45\n",
    "tilt_constraint.absolute_y_axis_tolerance = 0.45\n",
    "tilt_constraint.absolute_z_axis_tolerance = 3.6\n",
    "tilt_constraint.weight = 1\n",
    "constraints.orientation_constraints.append(tilt_constraint)\n",
    "move_group.set_path_constraints(constraints)"
   ]
  },
  {
   "cell_type": "markdown",
   "metadata": {},
   "source": [
    "for cartesian movement sample code :  https://github.com/byeongkyu/ros_tutorials3/blob/master/mobile_manipulator_robot_moveit_client/src/d4_move_cartesian_path.py"
   ]
  },
  {
   "cell_type": "code",
   "execution_count": null,
   "metadata": {},
   "outputs": [],
   "source": []
  }
 ],
 "metadata": {
  "kernelspec": {
   "display_name": "Python 2",
   "language": "python",
   "name": "python2"
  },
  "language_info": {
   "codemirror_mode": {
    "name": "ipython",
    "version": 2
   },
   "file_extension": ".py",
   "mimetype": "text/x-python",
   "name": "python",
   "nbconvert_exporter": "python",
   "pygments_lexer": "ipython2",
   "version": "2.7.17"
  }
 },
 "nbformat": 4,
 "nbformat_minor": 4
}
