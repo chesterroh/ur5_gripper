{
 "cells": [
  {
   "cell_type": "code",
   "execution_count": 30,
   "metadata": {},
   "outputs": [],
   "source": [
    "import sys\n",
    "import rospy\n",
    "import moveit_commander\n",
    "import copy\n",
    "import moveit_msgs.msg\n",
    "import geometry_msgs.msg\n",
    "from math import pi\n",
    "from tf.transformations import *\n",
    "from moveit_msgs.msg import RobotState, Constraints, JointConstraint, OrientationConstraint"
   ]
  },
  {
   "cell_type": "code",
   "execution_count": 2,
   "metadata": {},
   "outputs": [
    {
     "data": {
      "text/plain": [
       "['arm', 'effector']"
      ]
     },
     "execution_count": 2,
     "metadata": {},
     "output_type": "execute_result"
    }
   ],
   "source": [
    "\n",
    "rospy.init_node('test_ur', anonymous=True)\n",
    "moveit_commander.roscpp_initialize(sys.argv)\n",
    "\n",
    "robot = moveit_commander.RobotCommander()\n",
    "scene = moveit_commander.PlanningSceneInterface()\n",
    "\n",
    "robot.get_group_names()"
   ]
  },
  {
   "cell_type": "code",
   "execution_count": 3,
   "metadata": {},
   "outputs": [],
   "source": [
    "group_name = robot.get_group_names()\n",
    "move_group = moveit_commander.MoveGroupCommander(group_name[0])"
   ]
  },
  {
   "cell_type": "code",
   "execution_count": 4,
   "metadata": {},
   "outputs": [],
   "source": [
    "planning_frame = move_group.get_planning_frame()"
   ]
  },
  {
   "cell_type": "code",
   "execution_count": 5,
   "metadata": {},
   "outputs": [
    {
     "data": {
      "text/plain": [
       "'world'"
      ]
     },
     "execution_count": 5,
     "metadata": {},
     "output_type": "execute_result"
    }
   ],
   "source": [
    "planning_frame"
   ]
  },
  {
   "cell_type": "code",
   "execution_count": 6,
   "metadata": {},
   "outputs": [],
   "source": [
    "eef_link = move_group.get_end_effector_link()"
   ]
  },
  {
   "cell_type": "code",
   "execution_count": 7,
   "metadata": {},
   "outputs": [
    {
     "data": {
      "text/plain": [
       "'ee_link'"
      ]
     },
     "execution_count": 7,
     "metadata": {},
     "output_type": "execute_result"
    }
   ],
   "source": [
    "eef_link"
   ]
  },
  {
   "cell_type": "code",
   "execution_count": 8,
   "metadata": {},
   "outputs": [
    {
     "data": {
      "text/plain": [
       "joint_state: \n",
       "  header: \n",
       "    seq: 0\n",
       "    stamp: \n",
       "      secs: 0\n",
       "      nsecs:         0\n",
       "    frame_id: \"world\"\n",
       "  name: [shoulder_pan_joint, shoulder_lift_joint, elbow_joint, wrist_1_joint, wrist_2_joint,\n",
       "  wrist_3_joint]\n",
       "  position: [-0.857881372732769, -1.3719816527987465, 0.9830923985731443, 0.38876961109532715, -0.8585519058597715, 0.016405533281314888]\n",
       "  velocity: []\n",
       "  effort: []\n",
       "multi_dof_joint_state: \n",
       "  header: \n",
       "    seq: 0\n",
       "    stamp: \n",
       "      secs: 0\n",
       "      nsecs:         0\n",
       "    frame_id: \"world\"\n",
       "  joint_names: []\n",
       "  transforms: []\n",
       "  twist: []\n",
       "  wrench: []\n",
       "attached_collision_objects: []\n",
       "is_diff: False"
      ]
     },
     "execution_count": 8,
     "metadata": {},
     "output_type": "execute_result"
    }
   ],
   "source": [
    "\n",
    "robot.get_current_state()\n"
   ]
  },
  {
   "cell_type": "code",
   "execution_count": 9,
   "metadata": {},
   "outputs": [],
   "source": [
    "\n",
    "move_group.set_named_target(\"up\")\n",
    "plan = move_group.plan()"
   ]
  },
  {
   "cell_type": "code",
   "execution_count": 10,
   "metadata": {},
   "outputs": [
    {
     "data": {
      "text/plain": [
       "True"
      ]
     },
     "execution_count": 10,
     "metadata": {},
     "output_type": "execute_result"
    }
   ],
   "source": [
    "move_group.execute(plan, wait=True)"
   ]
  },
  {
   "cell_type": "code",
   "execution_count": 11,
   "metadata": {},
   "outputs": [],
   "source": [
    "\n",
    "def move_joints(move_group, goal):\n",
    "    move_group.go(goal, wait=True)\n",
    "    move_group.stop()\n",
    "    \n",
    "def get_joint_state(move_group):\n",
    "    joint_state = move_group.get_current_joint_values()\n",
    "    print \"---- rad value ----\"\n",
    "    print joint_state\n",
    "    print \"---- degree value ---- \"\n",
    "    print [joint*180/math.pi for joint in joint_state]"
   ]
  },
  {
   "cell_type": "code",
   "execution_count": 12,
   "metadata": {},
   "outputs": [
    {
     "name": "stdout",
     "output_type": "stream",
     "text": [
      "---- rad value ----\n",
      "[0.05202944790448871, -1.6835228126736155, 0.39928326412308124, -0.6075882567708888, -1.5447613514937952, 1.822433618946084]\n",
      "---- degree value ---- \n",
      "[2.9810677753229884, -96.45875188019167, 22.877245864459876, -34.812242794682895, -88.50830579551956, 104.41775480836351]\n"
     ]
    }
   ],
   "source": [
    "\n",
    "import math\n",
    "\n",
    "get_joint_state(move_group)"
   ]
  },
  {
   "cell_type": "code",
   "execution_count": 13,
   "metadata": {},
   "outputs": [
    {
     "name": "stdout",
     "output_type": "stream",
     "text": [
      "---- rad value ----\n",
      "[1.570700040999938, -1.7453889801837432, 1.5708907961708753, -1.745273560869733, -1.57070716698858, -4.064910985235315e-05]\n",
      "---- degree value ---- \n",
      "[89.99448323032182, -100.00342217317136, 90.00541269653681, -99.99680913360427, -89.99489151939586, -0.0023290224355034883]\n"
     ]
    }
   ],
   "source": [
    "goal = [ n * math.pi / 180 for n in [90,-100,90,-100,-90,0]]\n",
    "\n",
    "move_joints(move_group, goal)\n",
    "get_joint_state(move_group)"
   ]
  },
  {
   "cell_type": "code",
   "execution_count": 14,
   "metadata": {},
   "outputs": [],
   "source": [
    "# cartesin value retrieval\n",
    "\n",
    "def get_goal_pose(move_group):\n",
    "    joint_state = move_group.get_current_pose()\n",
    "    print joint_state"
   ]
  },
  {
   "cell_type": "code",
   "execution_count": 15,
   "metadata": {},
   "outputs": [
    {
     "name": "stdout",
     "output_type": "stream",
     "text": [
      "header: \n",
      "  seq: 0\n",
      "  stamp: \n",
      "    secs: 437\n",
      "    nsecs: 155000000\n",
      "  frame_id: \"world\"\n",
      "pose: \n",
      "  position: \n",
      "    x: -0.109115977414\n",
      "    y: 0.429564338847\n",
      "    z: 1.5288228794\n",
      "  orientation: \n",
      "    x: -0.405580139188\n",
      "    y: 0.405631812675\n",
      "    z: 0.579215806671\n",
      "    w: 0.579203446593\n"
     ]
    }
   ],
   "source": [
    "\n",
    "get_goal_pose(move_group)"
   ]
  },
  {
   "cell_type": "code",
   "execution_count": 16,
   "metadata": {},
   "outputs": [],
   "source": [
    "\n",
    "import geometry_msgs.msg\n",
    "\n",
    "pose_goal = geometry_msgs.msg.Pose()\n",
    "\n",
    "pose_goal.position.x = 0.562\n",
    "pose_goal.position.y = 0.550\n",
    "pose_goal.position.z = 1.37679003904\n",
    "\n",
    "pose_goal.orientation.x = 0.768049136044\n",
    "pose_goal.orientation.y = -0.00683168224924\n",
    "pose_goal.orientation.z = 0.00497378503076\n",
    "pose_goal.orientation.w = 0.640335157712\n",
    "move_group.set_pose_target(pose_goal)"
   ]
  },
  {
   "cell_type": "markdown",
   "metadata": {},
   "source": [
    "아래 있는 cell 이 quaternion orientation 이 제대로 잡혀 있음... 여기에서 contraint 를 한번 걸어보는 것으로 해보기 ... "
   ]
  },
  {
   "cell_type": "code",
   "execution_count": 42,
   "metadata": {},
   "outputs": [],
   "source": [
    "pose_goal.position.x = 0.362\n",
    "pose_goal.position.y = 0.0\n",
    "pose_goal.position.z = 1.37679003904 - 0.376\n",
    "\n",
    "pose_goal.orientation.x = 0.768049136044\n",
    "pose_goal.orientation.y = -0.00683168224924\n",
    "pose_goal.orientation.z = 0.00497378503076\n",
    "pose_goal.orientation.w = 0.640335157712\n",
    "move_group.set_pose_target(pose_goal)"
   ]
  },
  {
   "cell_type": "code",
   "execution_count": 43,
   "metadata": {},
   "outputs": [],
   "source": [
    "plan = move_group.go(wait=True)\n",
    "move_group.stop()\n",
    "move_group.clear_pose_targets()"
   ]
  },
  {
   "cell_type": "markdown",
   "metadata": {},
   "source": [
    "ORIENTATION CONSTRAINT 넣어주기 "
   ]
  },
  {
   "cell_type": "code",
   "execution_count": 155,
   "metadata": {},
   "outputs": [],
   "source": [
    "\n",
    "constraints = Constraints()\n",
    "\n",
    "constraints.name = \"constraints1\"\n",
    "\n",
    "oc1 = OrientationConstraint()\n",
    "\n",
    "# input orientation constraints\n",
    "\n",
    "\n",
    "\n",
    "constraints.orientation_constraints.append(oc1)\n",
    "move_group.set_path_constraints(constraints)\n",
    "\n",
    "\n",
    "pose_goal.position.x = 0.55\n",
    "pose_goal.position.y = 0.4\n",
    "pose_goal.position.z = 0.998 + 0.376\n",
    "\n",
    "pose_goal.orientation.x = 0.768049136044\n",
    "pose_goal.orientation.y = -0.00683168224924\n",
    "pose_goal.orientation.z = 0.00497378503076\n",
    "pose_goal.orientation.w = 0.640335157712\n",
    "move_group.set_pose_target(pose_goal)\n",
    "\n",
    "plan = move_group.go(wait=True)\n",
    "move_group.stop()\n",
    "move_group.clear_pose_targets()\n",
    "\n"
   ]
  },
  {
   "cell_type": "code",
   "execution_count": 124,
   "metadata": {},
   "outputs": [
    {
     "data": {
      "text/plain": [
       "[100.36489387091633, -0.9390829294376395, -0.2363406321458759]"
      ]
     },
     "execution_count": 124,
     "metadata": {},
     "output_type": "execute_result"
    }
   ],
   "source": [
    "\n",
    "import tf\n",
    "\n",
    "tmp = tf.transformations.euler_from_quaternion([\n",
    "    pose_goal.orientation.x,\n",
    "    pose_goal.orientation.y,\n",
    "    pose_goal.orientation.z,\n",
    "    pose_goal.orientation.w])\n",
    "\n",
    "[each*180/math.pi for each in tmp]"
   ]
  },
  {
   "cell_type": "code",
   "execution_count": 125,
   "metadata": {},
   "outputs": [
    {
     "data": {
      "text/plain": [
       "array([-0.1830127,  0.5      ,  0.5      ,  0.6830127])"
      ]
     },
     "execution_count": 125,
     "metadata": {},
     "output_type": "execute_result"
    }
   ],
   "source": [
    "tf.transformations.quaternion_from_euler(30*math.pi/180,\n",
    "                                         60*math.pi/180,\n",
    "                                         90*math.pi/180)"
   ]
  },
  {
   "cell_type": "code",
   "execution_count": 117,
   "metadata": {},
   "outputs": [
    {
     "ename": "NameError",
     "evalue": "name 'tf' is not defined",
     "output_type": "error",
     "traceback": [
      "\u001b[0;31m---------------------------------------------------------------------------\u001b[0m",
      "\u001b[0;31mNameError\u001b[0m                                 Traceback (most recent call last)",
      "\u001b[0;32m<ipython-input-117-825fffd0e040>\u001b[0m in \u001b[0;36m<module>\u001b[0;34m()\u001b[0m\n\u001b[1;32m      1\u001b[0m \u001b[0;34m[\u001b[0m\u001b[0mp\u001b[0m\u001b[0;34m,\u001b[0m\u001b[0mq\u001b[0m\u001b[0;34m,\u001b[0m\u001b[0mr\u001b[0m\u001b[0;34m]\u001b[0m \u001b[0;34m=\u001b[0m \u001b[0;34m[\u001b[0m\u001b[0meach\u001b[0m\u001b[0;34m*\u001b[0m\u001b[0mmath\u001b[0m\u001b[0;34m.\u001b[0m\u001b[0mpi\u001b[0m\u001b[0;34m/\u001b[0m\u001b[0;36m180\u001b[0m \u001b[0;32mfor\u001b[0m \u001b[0meach\u001b[0m \u001b[0;32min\u001b[0m \u001b[0;34m[\u001b[0m\u001b[0;36m0.\u001b[0m\u001b[0;34m,\u001b[0m \u001b[0;36m60\u001b[0m\u001b[0;34m,\u001b[0m \u001b[0;36m90.\u001b[0m\u001b[0;34m]\u001b[0m\u001b[0;34m]\u001b[0m\u001b[0;34m\u001b[0m\u001b[0m\n\u001b[1;32m      2\u001b[0m \u001b[0;34m\u001b[0m\u001b[0m\n\u001b[0;32m----> 3\u001b[0;31m \u001b[0mx\u001b[0m\u001b[0;34m,\u001b[0m\u001b[0my\u001b[0m\u001b[0;34m,\u001b[0m\u001b[0mz\u001b[0m\u001b[0;34m,\u001b[0m\u001b[0mw\u001b[0m \u001b[0;34m=\u001b[0m\u001b[0mtf\u001b[0m\u001b[0;34m.\u001b[0m\u001b[0mtransformations\u001b[0m\u001b[0;34m.\u001b[0m\u001b[0mquaternion_from_euler\u001b[0m\u001b[0;34m(\u001b[0m\u001b[0mp\u001b[0m\u001b[0;34m,\u001b[0m\u001b[0mq\u001b[0m\u001b[0;34m,\u001b[0m\u001b[0mr\u001b[0m\u001b[0;34m)\u001b[0m\u001b[0;34m\u001b[0m\u001b[0m\n\u001b[0m",
      "\u001b[0;31mNameError\u001b[0m: name 'tf' is not defined"
     ]
    }
   ],
   "source": [
    "[p,q,r] = [each*math.pi/180 for each in [0., 60, 90.]]\n",
    "\n",
    "x,y,z,w =tf.transformations.quaternion_from_euler(p,q,r)"
   ]
  },
  {
   "cell_type": "code",
   "execution_count": 22,
   "metadata": {},
   "outputs": [],
   "source": [
    "move_group.set_pose_target(pose_goal)\n",
    "\n",
    "plan = move_group.go(wait=True)\n",
    "move_group.stop()\n",
    "move_group.clear_pose_targets()"
   ]
  },
  {
   "cell_type": "code",
   "execution_count": null,
   "metadata": {},
   "outputs": [],
   "source": []
  },
  {
   "cell_type": "code",
   "execution_count": null,
   "metadata": {},
   "outputs": [],
   "source": []
  }
 ],
 "metadata": {
  "kernelspec": {
   "display_name": "Python 2",
   "language": "python",
   "name": "python2"
  },
  "language_info": {
   "codemirror_mode": {
    "name": "ipython",
    "version": 2
   },
   "file_extension": ".py",
   "mimetype": "text/x-python",
   "name": "python",
   "nbconvert_exporter": "python",
   "pygments_lexer": "ipython2",
   "version": "2.7.17"
  }
 },
 "nbformat": 4,
 "nbformat_minor": 4
}
